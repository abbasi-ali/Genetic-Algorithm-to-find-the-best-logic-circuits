{
 "cells": [
  {
   "cell_type": "markdown",
   "metadata": {
    "id": "BjXeIpuu-kO9"
   },
   "source": [
    "Fitness fucntion is the number of the rows, ouputed correctly by the chromosom. It also takes the negative of the circuits into the account as well.\n",
    "I defined a cutoff probability. The chromoses who are in the bottom of the given percentile, will not be selected for the replication\n",
    "Crossover chance will decrease gradually as the generations pass. The lowest value of the crossover would be 0.15 the mutation chance is quite low though: 0.05 ideally.\n",
    "Sometimes it is kilely tha GA covnerges to local minima. The reason for that is the survived chromosomes cannot yield better solution by getting crossovered or mutated. This leads to slow convergence or not  converging to the final solution at all. \n",
    "One solution is to make the chance of mutation higher and thus increase the randomness of the algorithm which leads in escaping the local minima."
   ]
  },
  {
   "cell_type": "code",
   "execution_count": 12,
   "metadata": {
    "id": "nA2EHKgO_r-C"
   },
   "outputs": [],
   "source": [
    "import pandas as pd\n",
    "import numpy as np\n",
    "import copy \n",
    "import random"
   ]
  },
  {
   "cell_type": "code",
   "execution_count": 13,
   "metadata": {
    "id": "xNK5talNQgqx"
   },
   "outputs": [],
   "source": [
    "class And_gate:\n",
    "  def __init__(self, in1=0, in2=0):\n",
    "    self.in1 = in1 \n",
    "    self.in2 = in2 \n",
    "    self.khorooji = 0\n",
    "    self.name = 'and'\n",
    "\n",
    "  def khorooj(self):\n",
    "    if self.in1 ==1 and self.in2 == 1:\n",
    "      self.khorooji = 1\n",
    "      return 1 \n",
    "\n",
    "    self.khorooji = 0\n",
    "    return 0 \n",
    "\n"
   ]
  },
  {
   "cell_type": "code",
   "execution_count": 14,
   "metadata": {
    "id": "iIoaLE7GS3TZ"
   },
   "outputs": [],
   "source": [
    "class Or_gate:\n",
    "  def __init__(self, in1=0, in2=0):\n",
    "    self.in1 = in1 \n",
    "    self.in2 = in2 \n",
    "    self.khorooji = 0\n",
    "    self.name = 'or'\n",
    "  \n",
    "  def khorooj(self):\n",
    "    if self.in1 ==1 or self.in2 == 1:\n",
    "      self.khorooji = 1\n",
    "      return 1 \n",
    "\n",
    "    self.khorooji = 0 \n",
    "    return 0 \n"
   ]
  },
  {
   "cell_type": "code",
   "execution_count": 15,
   "metadata": {
    "id": "idRTdPiGS8Ib"
   },
   "outputs": [],
   "source": [
    "class Xor_gate:\n",
    "  def __init__(self, in1=0, in2=0):\n",
    "    self.in1 = in1 \n",
    "    self.in2 = in2 \n",
    "    self.khorooji = 0\n",
    "    self.name = 'xor'\n",
    "  \n",
    "  def khorooj(self):\n",
    "    if (self.in1 ==1 and self.in2 == 0) or (self.in1 ==0 and self.in2 == 1):\n",
    "      self.khorooji = 1\n",
    "      return 1 \n",
    "\n",
    "    self.khorooji = 0\n",
    "    return 0 "
   ]
  },
  {
   "cell_type": "code",
   "execution_count": 16,
   "metadata": {
    "id": "MheuWSbSTJCN"
   },
   "outputs": [],
   "source": [
    "class Nand_gate:\n",
    "  def __init__(self, in1=0, in2=0):\n",
    "    self.in1 = in1 \n",
    "    self.in2 = in2 \n",
    "    self.khorooji = 0\n",
    "    self.name = 'nand'\n",
    "  \n",
    "  def khorooj(self):\n",
    "    if self.in1 ==1 and self.in2 == 1:\n",
    "      self.khorooji = 0\n",
    "      return 0\n",
    "\n",
    "    self.khorooji = 1\n",
    "    return 1 "
   ]
  },
  {
   "cell_type": "code",
   "execution_count": 17,
   "metadata": {
    "id": "DiZOfuVZTY4H"
   },
   "outputs": [],
   "source": [
    "class Nor_gate:\n",
    "  def __init__(self, in1=0, in2=0):\n",
    "    self.in1 = in1 \n",
    "    self.in2 = in2 \n",
    "    self.khorooji = 0\n",
    "    self.name = 'nor'\n",
    "  \n",
    "  def khorooj(self):\n",
    "    if self.in1 ==1 or self.in2 == 1:\n",
    "      self.khorooji = 0\n",
    "      return 0\n",
    "\n",
    "    self.khorooji = 1\n",
    "    return 1 "
   ]
  },
  {
   "cell_type": "code",
   "execution_count": 18,
   "metadata": {
    "id": "Ol8VegrqTjXy"
   },
   "outputs": [],
   "source": [
    "class Xnor_gate:\n",
    "  def __init__(self, in1=0, in2=0):\n",
    "    self.in1 = in1 \n",
    "    self.in2 = in2 \n",
    "    self.khorooji = 0\n",
    "    self.name = 'xnor'\n",
    "  \n",
    "  def khorooj(self):\n",
    "    if (self.in1 ==1 and self.in2 == 0) or (self.in1 ==0 and self.in2 == 1):\n",
    "      self.khorooji = 0\n",
    "      return 0\n",
    "\n",
    "    self.khorooji = 1\n",
    "    return 1"
   ]
  },
  {
   "cell_type": "code",
   "execution_count": 19,
   "metadata": {
    "id": "wDuOl9qGcX5M"
   },
   "outputs": [],
   "source": [
    "class Chromosom:\n",
    "  def __init__(self, genes):\n",
    "    self.genes = genes\n",
    "    self.khorooji = 0\n",
    "    self.fitness = 0\n",
    "    \n",
    "\n",
    "  def get_names(self):\n",
    "    names = []\n",
    "    for g in self.genes:\n",
    "      names.append(g.name)\n",
    "    \n",
    "    return names \n",
    "\n",
    "  def khorooj(self, inputs):\n",
    "    self.genes[0].in1 = inputs[0]\n",
    "    for cnt in range(9):\n",
    "      self.genes[cnt].in2 = inputs[cnt + 1]\n",
    "      if cnt > 0:\n",
    "        self.genes[cnt].in1 = self.genes[cnt-1].khorooj()\n",
    "      \n",
    "\n",
    "    self.khorooji = self.genes[-1].khorooj()\n",
    "    return self.khorooji "
   ]
  },
  {
   "cell_type": "code",
   "execution_count": 28,
   "metadata": {
    "id": "cRTJQuYvTshp"
   },
   "outputs": [],
   "source": [
    "class Fitness:\n",
    "  def __init__(self, tt_add, in_num):\n",
    "    self.tt_df = pd.read_csv(tt_add)\n",
    "    self.tt_np  = self.tt_df.to_numpy(dtype=np.int8)\n",
    "    self.in_num = in_num \n",
    "\n",
    "\n",
    "  def check_the_sol(self, popu):\n",
    "    for p in popu:\n",
    "      if p.fitness == 2**self.in_num:\n",
    "        return p \n",
    "\n",
    "    return None \n",
    "    \n",
    "  def check_fitness(self, chro):\n",
    "    fit_cnt = 0\n",
    "    for row in self.tt_np:\n",
    "      khorooji = chro.khorooj(row[:-1])\n",
    "      if khorooji == row[-1]:\n",
    "        fit_cnt += 1\n",
    "      \n",
    "      \n",
    "    chro.fitness = fit_cnt \n",
    "    return max(fit_cnt, 2**self.in_num - fit_cnt)\n",
    "\n",
    "\n",
    "  def check_real_fitness(self, chro):\n",
    "    fit_cnt = 0\n",
    "    for row in self.tt_np:\n",
    "      khorooji = chro.khorooj(row[:-1])\n",
    "      if khorooji == row[-1]:\n",
    "        fit_cnt += 1\n",
    "      \n",
    "      \n",
    "    chro.fitness = fit_cnt \n",
    "    return fit_cnt\n"
   ]
  },
  {
   "cell_type": "code",
   "execution_count": 21,
   "metadata": {
    "id": "qVxPT2tj2Y0b"
   },
   "outputs": [],
   "source": [
    "class Genetic:\n",
    "  def __init__(self, fit, init_pop, mut_chance, cross_chance, die_cutoff):\n",
    "    self.init_pop = init_pop \n",
    "    self.mut_chance = mut_chance\n",
    "    self.die_cutoff = die_cutoff\n",
    "    self.cross_chance = cross_chance \n",
    "    self.preserve_cross = cross_chance \n",
    "    self.fit = fit \n",
    "    self.best = Chromosom(None) \n",
    "    \n",
    "\n",
    "\n",
    "  def create_random_chro(self, length):\n",
    "    rnds = np.random.randint(0, 6, length)\n",
    "    genes = []\n",
    "    for rnd in rnds:\n",
    "      if rnd == 0:\n",
    "        genes.append(And_gate())\n",
    "      elif rnd == 1:\n",
    "        genes.append(Or_gate())\n",
    "      elif rnd == 2:\n",
    "        genes.append(Xor_gate())\n",
    "      elif rnd == 3:\n",
    "        genes.append(Nand_gate())\n",
    "      elif rnd == 4:\n",
    "        genes.append(Nor_gate())\n",
    "      elif rnd == 5:\n",
    "        genes.append(Xnor_gate())\n",
    "    \n",
    "    return Chromosom(genes)\n",
    "\n",
    "\n",
    "  def create_random_pop(self):\n",
    "    popu = [self.create_random_chro(9) for _ in range(self.init_pop)]\n",
    "    return popu \n",
    "\n",
    "  def crossover(self, chr1, chr2):\n",
    "    point = np.random.randint(1, 8)\n",
    "\n",
    "    for cnt in range(8, 8-point, -1):\n",
    "      tmp = copy.deepcopy(chr1.genes[cnt])\n",
    "      chr1.genes[cnt] = copy.deepcopy(chr2.genes[cnt])\n",
    "      chr2.genes[cnt] = tmp \n",
    "\n",
    "    chr1.fitness = 0\n",
    "    chr2.fitness = 0\n",
    "\n",
    "    return chr1, chr2   \n",
    "\n",
    "  def mutate(self, chro):\n",
    "    gate = np.random.randint(0, 6)\n",
    "    point = np.random.randint(0, 9)\n",
    "\n",
    "    if gate == 0:\n",
    "      chro.genes[point] = And_gate()\n",
    "    elif gate == 1:\n",
    "      chro.genes[point] = Or_gate()\n",
    "    elif gate == 2:\n",
    "      chro.genes[point] = Xor_gate()\n",
    "    elif gate == 3:\n",
    "      chro.genes[point] = Nand_gate()\n",
    "    elif gate == 4:\n",
    "      chro.genes[point] = Nor_gate()\n",
    "    elif gate == 5:\n",
    "      chro.genes[point] = Xnor_gate()\n",
    "\n",
    "    chro.fitness = 0\n",
    "\n",
    "    return chro\n",
    "\n",
    "  \n",
    "  def kill_the_pop(self, popu):\n",
    "\n",
    "    \n",
    "    \n",
    "    popu = sorted(popu, key=lambda x: x.fitness)\n",
    "    print(popu[-1].fitness)\n",
    "\n",
    "    if popu[-1].fitness > self.best.fitness:\n",
    "      self.best = copy.deepcopy(popu[-1])\n",
    "\n",
    "    \n",
    "    last_len = len(popu)\n",
    "    \n",
    "    popu = popu[int(len(popu)*self.die_cutoff):len(popu)]\n",
    "\n",
    "    if len(popu) == last_len:\n",
    "      return None \n",
    "\n",
    "    return popu \n",
    "\n",
    "\n",
    "  def create_new_pop(self, popu):\n",
    "    mu_list = []\n",
    "    cross_list = []\n",
    "    norm_list = []\n",
    "    random.shuffle(popu)\n",
    "    for p in popu:\n",
    "      mu = True if np.random.rand() < self.mut_chance else False \n",
    "      cr = True if np.random.rand() < self.cross_chance else False \n",
    "      self.cross_chance = float(len(popu) / self.init_pop) * (self.preserve_cross-0.15) + 0.15 \n",
    "      if mu == True:\n",
    "        mu_list.append(p)\n",
    "\n",
    "      elif cr == True:\n",
    "        cross_list.append(p)\n",
    "      \n",
    "      else:\n",
    "        norm_list.append(p)\n",
    "\n",
    "      \n",
    "    if len(cross_list) % 2 != 0:\n",
    "      cross_list.append(copy.deepcopy(cross_list[0]))\n",
    "    \n",
    "    for ind, m in enumerate(mu_list):\n",
    "      mu_list[ind] = self.mutate(m)\n",
    "\n",
    "    for cnt in range(0, len(cross_list)-1, 2):\n",
    "      chr1, chr2 = self.crossover(cross_list[cnt], cross_list[cnt+1])\n",
    "      cross_list[cnt], cross_list[cnt+1] = chr1, chr2\n",
    "\n",
    "    return cross_list + mu_list + norm_list \n",
    "\n",
    "    \n",
    "\n",
    "    \n",
    "\n",
    "  def run_gen(self):\n",
    "\n",
    "    popu = self.create_random_pop()\n",
    "    while True:\n",
    "      mian = 0\n",
    "      for ind, p in enumerate(popu):\n",
    "        if p.fitness == 0:\n",
    "          p.fitness = self.fit.check_fitness(p)\n",
    "\n",
    "        mian += p.fitness \n",
    "        if p.fitness == 1024:\n",
    "          return p \n",
    " \n",
    "      print('mian', float(mian / len(popu)))\n",
    "      popu = self.kill_the_pop(popu)\n",
    "      \n",
    "      if popu == None:\n",
    "          return None \n",
    "\n",
    "      print('length', len(popu))\n",
    "     \n",
    "\n",
    "      \n",
    "\n",
    "      popu = self.create_new_pop(popu)\n",
    "        \n"
   ]
  },
  {
   "cell_type": "code",
   "execution_count": 22,
   "metadata": {
    "id": "2GM9gbk_aZu4"
   },
   "outputs": [
    {
     "name": "stdout",
     "output_type": "stream",
     "text": [
      "mian 667.715\n",
      "992\n",
      "length 800\n",
      "mian 701.785268414482\n",
      "992\n",
      "length 641\n",
      "mian 725.2886115444618\n",
      "1004\n",
      "length 513\n",
      "mian 746.715953307393\n",
      "1004\n",
      "length 412\n",
      "mian 767.9854721549636\n",
      "1004\n",
      "length 331\n",
      "found the best ['and', 'xor', 'or', 'xnor', 'and', 'or', 'nand', 'xnor', 'or']\n"
     ]
    }
   ],
   "source": [
    "ft = Fitness('truth_table.csv', 10)\n",
    "\n",
    "\n",
    "\n",
    "gen_al = Genetic(ft, 1000, 0.05, 0.7, 0.2)\n",
    "\n",
    "sol = gen_al.run_gen()\n",
    "if sol != None:\n",
    "  print('found the best', sol.get_names())\n",
    "else:\n",
    "  print('not the best', gen_al.best.get_names())\n",
    "\n",
    "\n"
   ]
  },
  {
   "cell_type": "code",
   "execution_count": 30,
   "metadata": {},
   "outputs": [
    {
     "name": "stdout",
     "output_type": "stream",
     "text": [
      "1024\n",
      "0\n"
     ]
    }
   ],
   "source": [
    "ft2 = Fitness('truth_table.csv', 10)\n",
    "\n",
    "print(ft2.check_fitness(sol))\n",
    "print(ft2.check_real_fitness(sol))\n"
   ]
  },
  {
   "cell_type": "markdown",
   "metadata": {},
   "source": [
    "From the above results one can conclud that we foud the negative of the solution Therefore the real solution is:\n",
    "['and', 'xor', 'or', 'xnor', 'and', 'or', 'nand', 'xnor', 'nor']"
   ]
  },
  {
   "cell_type": "code",
   "execution_count": 31,
   "metadata": {},
   "outputs": [
    {
     "name": "stdout",
     "output_type": "stream",
     "text": [
      "1024\n"
     ]
    }
   ],
   "source": [
    "genes = [And_gate(), Xor_gate(), Or_gate(), Xnor_gate(), And_gate(), Or_gate(), Nand_gate(), Xnor_gate(), Nor_gate()]\n",
    "final_chr = Chromosom(genes)\n",
    "print(ft2.check_real_fitness(final_chr))"
   ]
  },
  {
   "cell_type": "code",
   "execution_count": null,
   "metadata": {},
   "outputs": [],
   "source": []
  }
 ],
 "metadata": {
  "colab": {
   "collapsed_sections": [],
   "name": "Untitled32.ipynb",
   "provenance": []
  },
  "kernelspec": {
   "display_name": "Python 3",
   "language": "python",
   "name": "python3"
  },
  "language_info": {
   "codemirror_mode": {
    "name": "ipython",
    "version": 3
   },
   "file_extension": ".py",
   "mimetype": "text/x-python",
   "name": "python",
   "nbconvert_exporter": "python",
   "pygments_lexer": "ipython3",
   "version": "3.8.3"
  }
 },
 "nbformat": 4,
 "nbformat_minor": 1
}
